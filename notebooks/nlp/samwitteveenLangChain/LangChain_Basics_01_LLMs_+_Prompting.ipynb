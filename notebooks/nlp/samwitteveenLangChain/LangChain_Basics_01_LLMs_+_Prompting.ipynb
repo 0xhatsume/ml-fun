{
  "nbformat": 4,
  "nbformat_minor": 0,
  "metadata": {
    "colab": {
      "provenance": [],
      "authorship_tag": "ABX9TyP0RCb8vbK6EkfuerlX9Yyy",
      "include_colab_link": true
    },
    "kernelspec": {
      "name": "python3",
      "display_name": "Python 3"
    },
    "language_info": {
      "name": "python"
    }
  },
  "cells": [
    {
      "cell_type": "markdown",
      "metadata": {
        "id": "view-in-github",
        "colab_type": "text"
      },
      "source": [
        "<a href=\"https://colab.research.google.com/github/0xhatsume/ml-fun/blob/main/notebooks/nlp/samwitteveenLangChain/LangChain_Basics_01_LLMs_%2B_Prompting.ipynb\" target=\"_parent\"><img src=\"https://colab.research.google.com/assets/colab-badge.svg\" alt=\"Open In Colab\"/></a>"
      ]
    },
    {
      "cell_type": "code",
      "execution_count": null,
      "metadata": {
        "id": "SUBCjk_qidoG"
      },
      "outputs": [],
      "source": []
    }
  ]
}